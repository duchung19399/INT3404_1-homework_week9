{
 "cells": [
  {
   "cell_type": "code",
   "execution_count": 28,
   "metadata": {},
   "outputs": [],
   "source": [
    "import cv2\n",
    "import numpy as np\n",
    "import os, os.path"
   ]
  },
  {
   "cell_type": "code",
   "execution_count": 29,
   "metadata": {},
   "outputs": [],
   "source": [
    "def face_skin_detect(path):\n",
    "    image = cv2.imread(path)\n",
    "    gray = cv2.cvtColor(image, cv2.COLOR_BGR2GRAY)\n",
    "    \n",
    "    #Nhận diện vùng khuôn mặt\n",
    "    faceCascade = cv2.CascadeClassifier(\n",
    "        cv2.data.haarcascades + \"haarcascade_frontalface_default.xml\")\n",
    "    faces = faceCascade.detectMultiScale(\n",
    "        gray,\n",
    "        scaleFactor=1.3,\n",
    "        minNeighbors=3,\n",
    "        minSize=(30, 30)\n",
    "    )\n",
    "    mask = np.zeros(image.shape, np.uint8)\n",
    "    for (x, y, w, h) in faces:\n",
    "        mask[y:y+h, x:x+w] = image[y:y+h, x:x+w]\n",
    "        \n",
    "    #Đổi màu qua HSV, lấy các màu trong khoảng vùng màu người\n",
    "    converted = cv2.cvtColor(mask, cv2.COLOR_BGR2HSV)\n",
    "    lower_skin_color = np.array([0, 50, 60], dtype = \"uint8\")\n",
    "    upper_skin_color = np.array([13, 150, 255], dtype = \"uint8\")\n",
    "    skinMask = cv2.inRange(converted, lower_skin_color, upper_skin_color)\n",
    "    \n",
    "    \n",
    "    kernel = cv2.getStructuringElement(cv2.MORPH_ELLIPSE, (7, 9))\n",
    "    skinMask = cv2.erode(skinMask, kernel, iterations = 3)\n",
    "    skinMask = cv2.dilate(skinMask, kernel, iterations = 5)\n",
    "    skinMask = cv2.GaussianBlur(skinMask, (3, 3), 0)\n",
    "    skin = cv2.bitwise_and(image, image, mask = skinMask)\n",
    "    cv2.imwrite('./output/face_skin_detected_' + path, skin)"
   ]
  },
  {
   "cell_type": "code",
   "execution_count": 30,
   "metadata": {},
   "outputs": [],
   "source": [
    "for path in os.listdir('./'):\n",
    "    ext = os.path.splitext(path)[1]\n",
    "    if ext.lower() == \".jpg\":\n",
    "        face_skin_detect('' + path)"
   ]
  },
  {
   "cell_type": "code",
   "execution_count": null,
   "metadata": {},
   "outputs": [],
   "source": []
  }
 ],
 "metadata": {
  "kernelspec": {
   "display_name": "Python 3",
   "language": "python",
   "name": "python3"
  },
  "language_info": {
   "codemirror_mode": {
    "name": "ipython",
    "version": 3
   },
   "file_extension": ".py",
   "mimetype": "text/x-python",
   "name": "python",
   "nbconvert_exporter": "python",
   "pygments_lexer": "ipython3",
   "version": "3.7.3"
  }
 },
 "nbformat": 4,
 "nbformat_minor": 2
}
